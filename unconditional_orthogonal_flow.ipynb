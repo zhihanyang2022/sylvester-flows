{
 "cells": [
  {
   "cell_type": "markdown",
   "id": "2f70e6b9",
   "metadata": {},
   "source": [
    "- inspecting jax code: https://github.com/google/jax/issues/7449"
   ]
  },
  {
   "cell_type": "code",
   "execution_count": 2209,
   "id": "3bd37f57",
   "metadata": {},
   "outputs": [],
   "source": [
    "%reload_ext autoreload\n",
    "%autoreload 2"
   ]
  },
  {
   "cell_type": "code",
   "execution_count": 2210,
   "id": "1d047326",
   "metadata": {},
   "outputs": [],
   "source": [
    "import torch\n",
    "import numpy\n",
    "import torch.nn.functional as F\n",
    "import torch.nn as nn\n",
    "import torch.optim as optim\n",
    "import torch.distributions as tdist\n",
    "from torch.autograd.functional import jacobian\n",
    "from orthogonalize import iterative_method\n",
    "from torch import log, abs, sum\n",
    "from functools import partial\n",
    "import time\n",
    "\n",
    "from potential_func import *\n",
    "from flow import UnconditionalOrthogonalFlow"
   ]
  },
  {
   "cell_type": "code",
   "execution_count": 2211,
   "id": "f51e9535",
   "metadata": {},
   "outputs": [
    {
     "ename": "AttributeError",
     "evalue": "'UnconditionalOrthogonalFlow' object has no attribute 'sample'",
     "output_type": "error",
     "traceback": [
      "\u001b[0;31m---------------------------------------------------------------------------\u001b[0m",
      "\u001b[0;31mAttributeError\u001b[0m                            Traceback (most recent call last)",
      "Input \u001b[0;32mIn [2211]\u001b[0m, in \u001b[0;36m<cell line: 5>\u001b[0;34m()\u001b[0m\n\u001b[1;32m      1\u001b[0m flow_untrained \u001b[38;5;241m=\u001b[39m UnconditionalOrthogonalFlow(D\u001b[38;5;241m=\u001b[39m\u001b[38;5;241m2\u001b[39m, M\u001b[38;5;241m=\u001b[39m\u001b[38;5;241m1\u001b[39m, K\u001b[38;5;241m=\u001b[39m\u001b[38;5;241m50\u001b[39m)\n\u001b[1;32m      3\u001b[0m fig \u001b[38;5;241m=\u001b[39m plt\u001b[38;5;241m.\u001b[39mfigure(figsize\u001b[38;5;241m=\u001b[39m(\u001b[38;5;241m3.75\u001b[39m, \u001b[38;5;241m3.75\u001b[39m))\n\u001b[0;32m----> 5\u001b[0m samples_qK, _ \u001b[38;5;241m=\u001b[39m \u001b[43mflow_untrained\u001b[49m\u001b[38;5;241;43m.\u001b[39;49m\u001b[43msample\u001b[49m(num_samples\u001b[38;5;241m=\u001b[39m\u001b[38;5;28mint\u001b[39m(\u001b[38;5;241m1e6\u001b[39m))\n\u001b[1;32m      6\u001b[0m samples_qK \u001b[38;5;241m=\u001b[39m samples_qK\u001b[38;5;241m.\u001b[39mdetach()\u001b[38;5;241m.\u001b[39mnumpy()\n\u001b[1;32m      8\u001b[0m \u001b[38;5;66;03m#samples_qK = samples_qK[np.bitwise_and(samples_qK[:,0] >= -4 , samples_qK[:,0] <= 4)]\u001b[39;00m\n\u001b[1;32m      9\u001b[0m \n\u001b[1;32m     10\u001b[0m \u001b[38;5;66;03m# plt.hexbin(samples_qK[:,0], samples_qK[:,1], gridsize=50, cmap=\"turbo\", extent=[-4, 4, -4, 4])\u001b[39;00m\n",
      "File \u001b[0;32m~/opt/miniconda3/envs/mlp/lib/python3.8/site-packages/torch/nn/modules/module.py:1614\u001b[0m, in \u001b[0;36mModule.__getattr__\u001b[0;34m(self, name)\u001b[0m\n\u001b[1;32m   1612\u001b[0m     \u001b[38;5;28;01mif\u001b[39;00m name \u001b[38;5;129;01min\u001b[39;00m modules:\n\u001b[1;32m   1613\u001b[0m         \u001b[38;5;28;01mreturn\u001b[39;00m modules[name]\n\u001b[0;32m-> 1614\u001b[0m \u001b[38;5;28;01mraise\u001b[39;00m \u001b[38;5;167;01mAttributeError\u001b[39;00m(\u001b[38;5;124m\"\u001b[39m\u001b[38;5;124m'\u001b[39m\u001b[38;5;132;01m{}\u001b[39;00m\u001b[38;5;124m'\u001b[39m\u001b[38;5;124m object has no attribute \u001b[39m\u001b[38;5;124m'\u001b[39m\u001b[38;5;132;01m{}\u001b[39;00m\u001b[38;5;124m'\u001b[39m\u001b[38;5;124m\"\u001b[39m\u001b[38;5;241m.\u001b[39mformat(\n\u001b[1;32m   1615\u001b[0m     \u001b[38;5;28mtype\u001b[39m(\u001b[38;5;28mself\u001b[39m)\u001b[38;5;241m.\u001b[39m\u001b[38;5;18m__name__\u001b[39m, name))\n",
      "\u001b[0;31mAttributeError\u001b[0m: 'UnconditionalOrthogonalFlow' object has no attribute 'sample'"
     ]
    },
    {
     "data": {
      "text/plain": [
       "<Figure size 270x270 with 0 Axes>"
      ]
     },
     "metadata": {},
     "output_type": "display_data"
    }
   ],
   "source": [
    "flow_untrained = UnconditionalOrthogonalFlow(D=2, M=1, K=50)\n",
    "\n",
    "fig = plt.figure(figsize=(3.75, 3.75))\n",
    "\n",
    "samples_qK, _ = flow_untrained.sample(num_samples=int(1e6))\n",
    "samples_qK = samples_qK.detach().numpy()\n",
    "\n",
    "#samples_qK = samples_qK[np.bitwise_and(samples_qK[:,0] >= -4 , samples_qK[:,0] <= 4)]\n",
    "\n",
    "# plt.hexbin(samples_qK[:,0], samples_qK[:,1], gridsize=50, cmap=\"turbo\", extent=[-4, 4, -4, 4])\n",
    "plt.hist2d(samples_qK[:,0], samples_qK[:,1], bins=100, cmap=\"jet\", range=[[-6, 6], [-6, 6]])\n",
    "    \n",
    "plt.axis(\"off\")\n",
    "plt.gca().set_aspect('equal', adjustable='box')\n",
    "\n",
    "plt.show()"
   ]
  },
  {
   "cell_type": "code",
   "execution_count": null,
   "id": "bf27a78a",
   "metadata": {},
   "outputs": [],
   "source": [
    "def sample(μ0, σ0):\n",
    "    q0 = tdist.Independent(tdist.Normal(loc=μ0, scale=σ0), reinterpreted_batch_ndims=1)\n",
    "    return q0.sample()"
   ]
  },
  {
   "cell_type": "code",
   "execution_count": null,
   "id": "3270521b",
   "metadata": {},
   "outputs": [],
   "source": [
    "batch_sample(torch.zeros(64, 5), torch.ones(64, 5))"
   ]
  },
  {
   "cell_type": "code",
   "execution_count": null,
   "id": "b4961caa",
   "metadata": {},
   "outputs": [],
   "source": [
    "from flow import UnconditionalOrthogonalFlow"
   ]
  },
  {
   "cell_type": "code",
   "execution_count": null,
   "id": "cd6ae880",
   "metadata": {},
   "outputs": [],
   "source": [
    "with torch.no_grad():\n",
    "    unconditional_sylvester_flow = UnconditionalOrthogonalFlow(D=2, M=1, K=8)\n",
    "    samples, log_probs = unconditional_sylvester_flow.sample(num_samples=1000)\n",
    "samples = samples.numpy()\n",
    "print(samples.max(), samples.min())\n",
    "plt.scatter(samples[:, 0], samples[:, 1], alpha=0.1)\n",
    "plt.show()"
   ]
  },
  {
   "cell_type": "code",
   "execution_count": null,
   "id": "283485dc",
   "metadata": {},
   "outputs": [],
   "source": [
    "U = U4"
   ]
  },
  {
   "cell_type": "code",
   "execution_count": null,
   "id": "19090534",
   "metadata": {},
   "outputs": [],
   "source": [
    "torch.manual_seed(42)\n",
    "a = torch.randn(5, 5, requires_grad=True)\n",
    "b = a * 1\n",
    "b[range(5), range(5)] = torch.tanh(b[range(5), range(5)])\n",
    "s = b.sum()\n",
    "s.backward()\n",
    "a.grad"
   ]
  },
  {
   "cell_type": "code",
   "execution_count": 2212,
   "id": "f0177c65",
   "metadata": {
    "scrolled": true
   },
   "outputs": [
    {
     "data": {
      "text/plain": [
       "tensor([[0.0813, 1.0000, 1.0000, 1.0000, 1.0000],\n",
       "        [1.0000, 0.9981, 1.0000, 1.0000, 1.0000],\n",
       "        [1.0000, 1.0000, 0.3530, 1.0000, 1.0000],\n",
       "        [1.0000, 1.0000, 1.0000, 0.5565, 1.0000],\n",
       "        [1.0000, 1.0000, 1.0000, 1.0000, 0.1627]])"
      ]
     },
     "execution_count": 2212,
     "metadata": {},
     "output_type": "execute_result"
    }
   ],
   "source": [
    "torch.manual_seed(42)\n",
    "\n",
    "a = torch.randn(5, 5)\n",
    "a.requires_grad=True\n",
    "\n",
    "b = a * 1\n",
    "b[range(5), range(5)] = torch.tanh(b[range(5), range(5)])\n",
    "s = b.sum()\n",
    "s.backward()\n",
    "a.grad"
   ]
  },
  {
   "cell_type": "code",
   "execution_count": 2213,
   "id": "133990cc",
   "metadata": {},
   "outputs": [
    {
     "data": {
      "text/plain": [
       "(tensor([[0., 1., 1., 1., 1.],\n",
       "         [1., 0., 1., 1., 1.],\n",
       "         [1., 1., 0., 1., 1.],\n",
       "         [1., 1., 1., 0., 1.],\n",
       "         [1., 1., 1., 1., 0.]]),\n",
       " tensor([0.0813, 0.9981, 0.3530, 0.5565, 0.1627]))"
      ]
     },
     "execution_count": 2213,
     "metadata": {},
     "output_type": "execute_result"
    }
   ],
   "source": [
    "# in place is ok as long as the tensor that requires grad is not modified \n",
    "\n",
    "torch.manual_seed(42)\n",
    "\n",
    "a = torch.randn(5, 5)\n",
    "diag = torch.diagonal(a)\n",
    "a.requires_grad = True\n",
    "diag.requires_grad = True\n",
    "\n",
    "b = a * 1\n",
    "b[range(5), range(5)] = torch.tanh(diag)\n",
    "\n",
    "s = b.sum()\n",
    "s.backward()\n",
    "a.grad, diag.grad"
   ]
  },
  {
   "cell_type": "code",
   "execution_count": 2220,
   "id": "56621585",
   "metadata": {
    "scrolled": true
   },
   "outputs": [
    {
     "name": "stdout",
     "output_type": "stream",
     "text": [
      "100 -1.4660146236419678\n",
      "\n",
      "WARNING WARNING WARNING: orthogonalization not complete\n",
      "\t Final max norm = tensor(0.0039, grad_fn=<MaxBackward1>)\n",
      "\n",
      "200 -1.9794188737869263\n",
      "300 -2.095330238342285\n",
      "400 -2.181455612182617\n",
      "500 -2.231628894805908\n",
      "600 -2.276499032974243\n",
      "700 -2.2859838008880615\n",
      "\n",
      "WARNING WARNING WARNING: orthogonalization not complete\n",
      "\t Final max norm = tensor(0.9615, grad_fn=<MaxBackward1>)\n",
      "\n",
      "800 -2.4380252361297607\n",
      "900 -2.437347173690796\n",
      "1000 -2.5174827575683594\n",
      "\n",
      "WARNING WARNING WARNING: orthogonalization not complete\n",
      "\t Final max norm = tensor(0.0519, grad_fn=<MaxBackward1>)\n",
      "\n",
      "\n",
      "WARNING WARNING WARNING: orthogonalization not complete\n",
      "\t Final max norm = tensor(0.0743, grad_fn=<MaxBackward1>)\n",
      "\n",
      "1100 -2.469815492630005\n",
      "1200 -2.5333359241485596\n",
      "1300 -2.5973258018493652\n",
      "1400 -2.6453373432159424\n",
      "1500 -2.7115700244903564\n",
      "1600 -2.7283809185028076\n",
      "1700 -2.7433674335479736\n",
      "1800 -2.722839832305908\n",
      "1900 -2.7552616596221924\n",
      "2000 -2.739806652069092\n",
      "2100 -2.7532427310943604\n",
      "2200 -2.7514379024505615\n",
      "2300 -2.7904677391052246\n",
      "2400 -2.7936971187591553\n",
      "2500 -2.820613384246826\n",
      "2600 -2.8286571502685547\n",
      "2700 -2.818775177001953\n"
     ]
    },
    {
     "ename": "KeyboardInterrupt",
     "evalue": "",
     "output_type": "error",
     "traceback": [
      "\u001b[0;31m---------------------------------------------------------------------------\u001b[0m",
      "\u001b[0;31mKeyboardInterrupt\u001b[0m                         Traceback (most recent call last)",
      "Input \u001b[0;32mIn [2220]\u001b[0m, in \u001b[0;36m<cell line: 10>\u001b[0;34m()\u001b[0m\n\u001b[1;32m      8\u001b[0m num_epochs \u001b[38;5;241m=\u001b[39m \u001b[38;5;241m10000\u001b[39m\n\u001b[1;32m     10\u001b[0m \u001b[38;5;28;01mfor\u001b[39;00m i \u001b[38;5;129;01min\u001b[39;00m \u001b[38;5;28mrange\u001b[39m(\u001b[38;5;241m1\u001b[39m, num_epochs \u001b[38;5;241m+\u001b[39m \u001b[38;5;241m1\u001b[39m):\n\u001b[0;32m---> 12\u001b[0m     samples, logps \u001b[38;5;241m=\u001b[39m \u001b[43mflow\u001b[49m\u001b[38;5;241;43m.\u001b[39;49m\u001b[43msample_and_compute_logp\u001b[49m\u001b[43m(\u001b[49m\u001b[43mnum_samples\u001b[49m\u001b[38;5;241;43m=\u001b[39;49m\u001b[38;5;241;43m1000\u001b[39;49m\u001b[43m)\u001b[49m\n\u001b[1;32m     13\u001b[0m     kl \u001b[38;5;241m=\u001b[39m (logps \u001b[38;5;241m+\u001b[39m U(samples))\u001b[38;5;241m.\u001b[39mmean()\n\u001b[1;32m     14\u001b[0m     kls\u001b[38;5;241m.\u001b[39mappend(\u001b[38;5;28mfloat\u001b[39m(kl))\n",
      "File \u001b[0;32m~/Desktop/projects/sylvester-flows/flow.py:57\u001b[0m, in \u001b[0;36mUnconditionalOrthogonalFlow.sample_and_compute_logp\u001b[0;34m(self, num_samples)\u001b[0m\n\u001b[1;32m     56\u001b[0m \u001b[38;5;28;01mdef\u001b[39;00m \u001b[38;5;21msample_and_compute_logp\u001b[39m(\u001b[38;5;28mself\u001b[39m, num_samples):\n\u001b[0;32m---> 57\u001b[0m     samples, log_probs \u001b[38;5;241m=\u001b[39m \u001b[43mcore\u001b[49m\u001b[38;5;241;43m.\u001b[39;49m\u001b[43mbatch_sample_from_sylvester_flow\u001b[49m\u001b[43m(\u001b[49m\n\u001b[1;32m     58\u001b[0m \u001b[43m        \u001b[49m\u001b[38;5;28;43mself\u001b[39;49m\u001b[38;5;241;43m.\u001b[39;49m\u001b[43mμ\u001b[49m\u001b[43m,\u001b[49m\u001b[43m \u001b[49m\u001b[38;5;28;43mself\u001b[39;49m\u001b[38;5;241;43m.\u001b[39;49m\u001b[43mσ\u001b[49m\u001b[43m,\u001b[49m\u001b[43m \u001b[49m\u001b[38;5;28;43mself\u001b[39;49m\u001b[38;5;241;43m.\u001b[39;49m\u001b[43mQ\u001b[49m\u001b[43m,\u001b[49m\u001b[43m \u001b[49m\u001b[38;5;28;43mself\u001b[39;49m\u001b[38;5;241;43m.\u001b[39;49m\u001b[43mR1\u001b[49m\u001b[43m,\u001b[49m\u001b[43m \u001b[49m\u001b[38;5;28;43mself\u001b[39;49m\u001b[38;5;241;43m.\u001b[39;49m\u001b[43mR2\u001b[49m\u001b[43m,\u001b[49m\u001b[43m \u001b[49m\u001b[38;5;28;43mself\u001b[39;49m\u001b[38;5;241;43m.\u001b[39;49m\u001b[43mb\u001b[49m\u001b[43m,\u001b[49m\u001b[43m \u001b[49m\u001b[43mnum_samples\u001b[49m\n\u001b[1;32m     59\u001b[0m \u001b[43m    \u001b[49m\u001b[43m)\u001b[49m    \n\u001b[1;32m     60\u001b[0m     \u001b[38;5;28;01mreturn\u001b[39;00m samples[\u001b[38;5;241m0\u001b[39m], log_probs[\u001b[38;5;241m0\u001b[39m]\n",
      "File \u001b[0;32m~/Desktop/projects/sylvester-flows/core.py:102\u001b[0m, in \u001b[0;36mbatch_sample_from_sylvester_flow\u001b[0;34m(μ, σ, Q, R1, R2, b, num_samples, return_z_from_each_layer)\u001b[0m\n\u001b[1;32m     98\u001b[0m z_from_each_layer[:, \u001b[38;5;241m0\u001b[39m, :, :] \u001b[38;5;241m=\u001b[39m z\n\u001b[1;32m    100\u001b[0m \u001b[38;5;28;01mfor\u001b[39;00m k \u001b[38;5;129;01min\u001b[39;00m \u001b[38;5;28mrange\u001b[39m(K):\n\u001b[0;32m--> 102\u001b[0m     out \u001b[38;5;241m=\u001b[39m \u001b[43mbatch_transform_and_compute_logabsdet\u001b[49m\u001b[43m(\u001b[49m\n\u001b[1;32m    103\u001b[0m \u001b[43m        \u001b[49m\u001b[43mz\u001b[49m\u001b[43m,\u001b[49m\u001b[43m \u001b[49m\u001b[43mQ\u001b[49m\u001b[43m[\u001b[49m\u001b[43m:\u001b[49m\u001b[43m,\u001b[49m\u001b[43m \u001b[49m\u001b[43mk\u001b[49m\u001b[43m,\u001b[49m\u001b[43m \u001b[49m\u001b[43m:\u001b[49m\u001b[43m,\u001b[49m\u001b[43m \u001b[49m\u001b[43m:\u001b[49m\u001b[43m]\u001b[49m\u001b[43m,\u001b[49m\u001b[43m \u001b[49m\u001b[43mR1\u001b[49m\u001b[43m[\u001b[49m\u001b[43m:\u001b[49m\u001b[43m,\u001b[49m\u001b[43m \u001b[49m\u001b[43mk\u001b[49m\u001b[43m,\u001b[49m\u001b[43m \u001b[49m\u001b[43m:\u001b[49m\u001b[43m,\u001b[49m\u001b[43m \u001b[49m\u001b[43m:\u001b[49m\u001b[43m]\u001b[49m\u001b[43m,\u001b[49m\u001b[43m \u001b[49m\u001b[43mR2\u001b[49m\u001b[43m[\u001b[49m\u001b[43m:\u001b[49m\u001b[43m,\u001b[49m\u001b[43m \u001b[49m\u001b[43mk\u001b[49m\u001b[43m,\u001b[49m\u001b[43m \u001b[49m\u001b[43m:\u001b[49m\u001b[43m,\u001b[49m\u001b[43m \u001b[49m\u001b[43m:\u001b[49m\u001b[43m]\u001b[49m\u001b[43m,\u001b[49m\u001b[43m \u001b[49m\u001b[43mb\u001b[49m\u001b[43m[\u001b[49m\u001b[43m:\u001b[49m\u001b[43m,\u001b[49m\u001b[43m \u001b[49m\u001b[43mk\u001b[49m\u001b[43m,\u001b[49m\u001b[43m \u001b[49m\u001b[43m:\u001b[49m\u001b[43m]\u001b[49m\n\u001b[1;32m    104\u001b[0m \u001b[43m    \u001b[49m\u001b[43m)\u001b[49m\n\u001b[1;32m    105\u001b[0m     z, logabsdet \u001b[38;5;241m=\u001b[39m out[:, :, :\u001b[38;5;241m-\u001b[39m\u001b[38;5;241m1\u001b[39m], out[:, :, \u001b[38;5;241m-\u001b[39m\u001b[38;5;241m1\u001b[39m]\n\u001b[1;32m    106\u001b[0m     log_prob \u001b[38;5;241m-\u001b[39m\u001b[38;5;241m=\u001b[39m logabsdet\n",
      "File \u001b[0;32m~/opt/miniconda3/envs/mlp/lib/python3.8/site-packages/torch/_functorch/vmap.py:434\u001b[0m, in \u001b[0;36mvmap.<locals>.wrapped\u001b[0;34m(*args, **kwargs)\u001b[0m\n\u001b[1;32m    430\u001b[0m     \u001b[38;5;28;01mreturn\u001b[39;00m _chunked_vmap(func, flat_in_dims, chunks_flat_args,\n\u001b[1;32m    431\u001b[0m                          args_spec, out_dims, randomness, \u001b[38;5;241m*\u001b[39m\u001b[38;5;241m*\u001b[39mkwargs)\n\u001b[1;32m    433\u001b[0m \u001b[38;5;66;03m# If chunk_size is not specified.\u001b[39;00m\n\u001b[0;32m--> 434\u001b[0m \u001b[38;5;28;01mreturn\u001b[39;00m \u001b[43m_flat_vmap\u001b[49m\u001b[43m(\u001b[49m\n\u001b[1;32m    435\u001b[0m \u001b[43m    \u001b[49m\u001b[43mfunc\u001b[49m\u001b[43m,\u001b[49m\u001b[43m \u001b[49m\u001b[43mbatch_size\u001b[49m\u001b[43m,\u001b[49m\u001b[43m \u001b[49m\u001b[43mflat_in_dims\u001b[49m\u001b[43m,\u001b[49m\u001b[43m \u001b[49m\u001b[43mflat_args\u001b[49m\u001b[43m,\u001b[49m\u001b[43m \u001b[49m\u001b[43margs_spec\u001b[49m\u001b[43m,\u001b[49m\u001b[43m \u001b[49m\u001b[43mout_dims\u001b[49m\u001b[43m,\u001b[49m\u001b[43m \u001b[49m\u001b[43mrandomness\u001b[49m\u001b[43m,\u001b[49m\u001b[43m \u001b[49m\u001b[38;5;241;43m*\u001b[39;49m\u001b[38;5;241;43m*\u001b[39;49m\u001b[43mkwargs\u001b[49m\n\u001b[1;32m    436\u001b[0m \u001b[43m\u001b[49m\u001b[43m)\u001b[49m\n",
      "File \u001b[0;32m~/opt/miniconda3/envs/mlp/lib/python3.8/site-packages/torch/_functorch/vmap.py:39\u001b[0m, in \u001b[0;36mdoesnt_support_saved_tensors_hooks.<locals>.fn\u001b[0;34m(*args, **kwargs)\u001b[0m\n\u001b[1;32m     36\u001b[0m \u001b[38;5;129m@functools\u001b[39m\u001b[38;5;241m.\u001b[39mwraps(f)\n\u001b[1;32m     37\u001b[0m \u001b[38;5;28;01mdef\u001b[39;00m \u001b[38;5;21mfn\u001b[39m(\u001b[38;5;241m*\u001b[39margs, \u001b[38;5;241m*\u001b[39m\u001b[38;5;241m*\u001b[39mkwargs):\n\u001b[1;32m     38\u001b[0m     \u001b[38;5;28;01mwith\u001b[39;00m torch\u001b[38;5;241m.\u001b[39mautograd\u001b[38;5;241m.\u001b[39mgraph\u001b[38;5;241m.\u001b[39mdisable_saved_tensors_hooks(message):\n\u001b[0;32m---> 39\u001b[0m         \u001b[38;5;28;01mreturn\u001b[39;00m \u001b[43mf\u001b[49m\u001b[43m(\u001b[49m\u001b[38;5;241;43m*\u001b[39;49m\u001b[43margs\u001b[49m\u001b[43m,\u001b[49m\u001b[43m \u001b[49m\u001b[38;5;241;43m*\u001b[39;49m\u001b[38;5;241;43m*\u001b[39;49m\u001b[43mkwargs\u001b[49m\u001b[43m)\u001b[49m\n",
      "File \u001b[0;32m~/opt/miniconda3/envs/mlp/lib/python3.8/site-packages/torch/_functorch/vmap.py:619\u001b[0m, in \u001b[0;36m_flat_vmap\u001b[0;34m(func, batch_size, flat_in_dims, flat_args, args_spec, out_dims, randomness, **kwargs)\u001b[0m\n\u001b[1;32m    617\u001b[0m \u001b[38;5;28;01mtry\u001b[39;00m:\n\u001b[1;32m    618\u001b[0m     batched_inputs \u001b[38;5;241m=\u001b[39m _create_batched_inputs(flat_in_dims, flat_args, vmap_level, args_spec)\n\u001b[0;32m--> 619\u001b[0m     batched_outputs \u001b[38;5;241m=\u001b[39m \u001b[43mfunc\u001b[49m\u001b[43m(\u001b[49m\u001b[38;5;241;43m*\u001b[39;49m\u001b[43mbatched_inputs\u001b[49m\u001b[43m,\u001b[49m\u001b[43m \u001b[49m\u001b[38;5;241;43m*\u001b[39;49m\u001b[38;5;241;43m*\u001b[39;49m\u001b[43mkwargs\u001b[49m\u001b[43m)\u001b[49m\n\u001b[1;32m    620\u001b[0m     \u001b[38;5;28;01mreturn\u001b[39;00m _unwrap_batched(batched_outputs, out_dims, vmap_level, batch_size, func)\n\u001b[1;32m    621\u001b[0m \u001b[38;5;28;01mfinally\u001b[39;00m:\n",
      "File \u001b[0;32m~/opt/miniconda3/envs/mlp/lib/python3.8/site-packages/torch/_functorch/vmap.py:434\u001b[0m, in \u001b[0;36mvmap.<locals>.wrapped\u001b[0;34m(*args, **kwargs)\u001b[0m\n\u001b[1;32m    430\u001b[0m     \u001b[38;5;28;01mreturn\u001b[39;00m _chunked_vmap(func, flat_in_dims, chunks_flat_args,\n\u001b[1;32m    431\u001b[0m                          args_spec, out_dims, randomness, \u001b[38;5;241m*\u001b[39m\u001b[38;5;241m*\u001b[39mkwargs)\n\u001b[1;32m    433\u001b[0m \u001b[38;5;66;03m# If chunk_size is not specified.\u001b[39;00m\n\u001b[0;32m--> 434\u001b[0m \u001b[38;5;28;01mreturn\u001b[39;00m \u001b[43m_flat_vmap\u001b[49m\u001b[43m(\u001b[49m\n\u001b[1;32m    435\u001b[0m \u001b[43m    \u001b[49m\u001b[43mfunc\u001b[49m\u001b[43m,\u001b[49m\u001b[43m \u001b[49m\u001b[43mbatch_size\u001b[49m\u001b[43m,\u001b[49m\u001b[43m \u001b[49m\u001b[43mflat_in_dims\u001b[49m\u001b[43m,\u001b[49m\u001b[43m \u001b[49m\u001b[43mflat_args\u001b[49m\u001b[43m,\u001b[49m\u001b[43m \u001b[49m\u001b[43margs_spec\u001b[49m\u001b[43m,\u001b[49m\u001b[43m \u001b[49m\u001b[43mout_dims\u001b[49m\u001b[43m,\u001b[49m\u001b[43m \u001b[49m\u001b[43mrandomness\u001b[49m\u001b[43m,\u001b[49m\u001b[43m \u001b[49m\u001b[38;5;241;43m*\u001b[39;49m\u001b[38;5;241;43m*\u001b[39;49m\u001b[43mkwargs\u001b[49m\n\u001b[1;32m    436\u001b[0m \u001b[43m\u001b[49m\u001b[43m)\u001b[49m\n",
      "File \u001b[0;32m~/opt/miniconda3/envs/mlp/lib/python3.8/site-packages/torch/_functorch/vmap.py:39\u001b[0m, in \u001b[0;36mdoesnt_support_saved_tensors_hooks.<locals>.fn\u001b[0;34m(*args, **kwargs)\u001b[0m\n\u001b[1;32m     36\u001b[0m \u001b[38;5;129m@functools\u001b[39m\u001b[38;5;241m.\u001b[39mwraps(f)\n\u001b[1;32m     37\u001b[0m \u001b[38;5;28;01mdef\u001b[39;00m \u001b[38;5;21mfn\u001b[39m(\u001b[38;5;241m*\u001b[39margs, \u001b[38;5;241m*\u001b[39m\u001b[38;5;241m*\u001b[39mkwargs):\n\u001b[1;32m     38\u001b[0m     \u001b[38;5;28;01mwith\u001b[39;00m torch\u001b[38;5;241m.\u001b[39mautograd\u001b[38;5;241m.\u001b[39mgraph\u001b[38;5;241m.\u001b[39mdisable_saved_tensors_hooks(message):\n\u001b[0;32m---> 39\u001b[0m         \u001b[38;5;28;01mreturn\u001b[39;00m \u001b[43mf\u001b[49m\u001b[43m(\u001b[49m\u001b[38;5;241;43m*\u001b[39;49m\u001b[43margs\u001b[49m\u001b[43m,\u001b[49m\u001b[43m \u001b[49m\u001b[38;5;241;43m*\u001b[39;49m\u001b[38;5;241;43m*\u001b[39;49m\u001b[43mkwargs\u001b[49m\u001b[43m)\u001b[49m\n",
      "File \u001b[0;32m~/opt/miniconda3/envs/mlp/lib/python3.8/site-packages/torch/_functorch/vmap.py:619\u001b[0m, in \u001b[0;36m_flat_vmap\u001b[0;34m(func, batch_size, flat_in_dims, flat_args, args_spec, out_dims, randomness, **kwargs)\u001b[0m\n\u001b[1;32m    617\u001b[0m \u001b[38;5;28;01mtry\u001b[39;00m:\n\u001b[1;32m    618\u001b[0m     batched_inputs \u001b[38;5;241m=\u001b[39m _create_batched_inputs(flat_in_dims, flat_args, vmap_level, args_spec)\n\u001b[0;32m--> 619\u001b[0m     batched_outputs \u001b[38;5;241m=\u001b[39m \u001b[43mfunc\u001b[49m\u001b[43m(\u001b[49m\u001b[38;5;241;43m*\u001b[39;49m\u001b[43mbatched_inputs\u001b[49m\u001b[43m,\u001b[49m\u001b[43m \u001b[49m\u001b[38;5;241;43m*\u001b[39;49m\u001b[38;5;241;43m*\u001b[39;49m\u001b[43mkwargs\u001b[49m\u001b[43m)\u001b[49m\n\u001b[1;32m    620\u001b[0m     \u001b[38;5;28;01mreturn\u001b[39;00m _unwrap_batched(batched_outputs, out_dims, vmap_level, batch_size, func)\n\u001b[1;32m    621\u001b[0m \u001b[38;5;28;01mfinally\u001b[39;00m:\n",
      "File \u001b[0;32m~/Desktop/projects/sylvester-flows/core.py:30\u001b[0m, in \u001b[0;36mtransform_and_compute_logabsdet\u001b[0;34m(z, Q, R1, R2, b)\u001b[0m\n\u001b[1;32m     27\u001b[0m pre_activation \u001b[38;5;241m=\u001b[39m R2 \u001b[38;5;241m@\u001b[39m Q\u001b[38;5;241m.\u001b[39mT \u001b[38;5;241m@\u001b[39m z \u001b[38;5;241m+\u001b[39m b\n\u001b[1;32m     29\u001b[0m new_z \u001b[38;5;241m=\u001b[39m z \u001b[38;5;241m+\u001b[39m Q \u001b[38;5;241m@\u001b[39m R1 \u001b[38;5;241m@\u001b[39m torch\u001b[38;5;241m.\u001b[39mtanh(pre_activation)\n\u001b[0;32m---> 30\u001b[0m log_abs_det \u001b[38;5;241m=\u001b[39m \u001b[43m(\u001b[49m\u001b[38;5;241;43m1\u001b[39;49m\u001b[43m \u001b[49m\u001b[38;5;241;43m+\u001b[39;49m\u001b[43m \u001b[49m\u001b[43mdtanh\u001b[49m\u001b[43m(\u001b[49m\u001b[43mpre_activation\u001b[49m\u001b[43m)\u001b[49m\u001b[43m \u001b[49m\u001b[38;5;241;43m*\u001b[39;49m\u001b[43m \u001b[49m\u001b[43mtorch\u001b[49m\u001b[38;5;241;43m.\u001b[39;49m\u001b[43mdiagonal\u001b[49m\u001b[43m(\u001b[49m\u001b[43mR2\u001b[49m\u001b[43m)\u001b[49m\u001b[43m \u001b[49m\u001b[38;5;241;43m*\u001b[39;49m\u001b[43m \u001b[49m\u001b[43mtorch\u001b[49m\u001b[38;5;241;43m.\u001b[39;49m\u001b[43mdiagonal\u001b[49m\u001b[43m(\u001b[49m\u001b[43mR1\u001b[49m\u001b[43m)\u001b[49m\u001b[43m)\u001b[49m\u001b[38;5;241;43m.\u001b[39;49m\u001b[43mabs\u001b[49m\u001b[43m(\u001b[49m\u001b[43m)\u001b[49m\u001b[38;5;241;43m.\u001b[39;49m\u001b[43mlog\u001b[49m\u001b[43m(\u001b[49m\u001b[43m)\u001b[49m\u001b[38;5;241;43m.\u001b[39;49m\u001b[43msum\u001b[49m\u001b[43m(\u001b[49m\u001b[43m)\u001b[49m\u001b[38;5;241;43m.\u001b[39;49m\u001b[43munsqueeze\u001b[49m\u001b[43m(\u001b[49m\u001b[38;5;241;43m0\u001b[39;49m\u001b[43m)\u001b[49m\n\u001b[1;32m     32\u001b[0m \u001b[38;5;28;01mreturn\u001b[39;00m torch\u001b[38;5;241m.\u001b[39mcat([new_z, log_abs_det])\n",
      "\u001b[0;31mKeyboardInterrupt\u001b[0m: "
     ]
    }
   ],
   "source": [
    "flow = UnconditionalOrthogonalFlow(D=2, M=2, K=50)\n",
    "opt = optim.Adam(flow.parameters(), lr=2e-3)\n",
    "\n",
    "start = time.perf_counter()\n",
    "\n",
    "kls = []\n",
    "\n",
    "num_epochs = 10000\n",
    "\n",
    "for i in range(1, num_epochs + 1):\n",
    "    \n",
    "    samples, logps = flow.sample_and_compute_logp(num_samples=1000)\n",
    "    kl = (logps + U(samples)).mean()\n",
    "    kls.append(float(kl))\n",
    "    \n",
    "    opt.zero_grad()\n",
    "    kl.backward()\n",
    "    opt.step()\n",
    "\n",
    "    if i % 100 == 0:\n",
    "        \n",
    "        print(i, float(kl))\n",
    "            \n",
    "end = time.perf_counter()\n",
    "end - start"
   ]
  },
  {
   "cell_type": "code",
   "execution_count": 2221,
   "id": "6353e277",
   "metadata": {},
   "outputs": [
    {
     "data": {
      "image/png": "[encoded data removed]",
      "text/plain": [
       "<Figure size 270x270 with 1 Axes>"
      ]
     },
     "metadata": {
      "needs_background": "light"
     },
     "output_type": "display_data"
    }
   ],
   "source": [
    "fig = plt.figure(figsize=(3.75, 3.75))\n",
    "\n",
    "samples_qK, _ = flow.sample_and_compute_logp(num_samples=int(1e6))\n",
    "samples_qK = samples_qK.detach().numpy()\n",
    "\n",
    "plt.hist2d(samples_qK[:,0], samples_qK[:,1], bins=100, cmap=\"jet\", range=[[-6, 6], [-6, 6]])\n",
    "    \n",
    "plt.axis(\"off\")\n",
    "plt.gca().set_aspect('equal', adjustable='box')\n",
    "\n",
    "plt.show()"
   ]
  },
  {
   "cell_type": "code",
   "execution_count": 2222,
   "id": "4be30718",
   "metadata": {},
   "outputs": [],
   "source": [
    "# copied from stackoverflow\n",
    "phi = np.linspace(0, 2*np.pi, n)\n",
    "x = np.sin(phi)\n",
    "y = np.cos(phi)\n",
    "rgb_cycle = (np.stack((np.cos(phi          ), # Three sinusoids,\n",
    "                       np.cos(phi+2*np.pi/3), # 120° phase shifted,\n",
    "                       np.cos(phi-2*np.pi/3)\n",
    "                      )).T # Shape = (60,3)\n",
    "             + 1)*0.5   "
   ]
  },
  {
   "cell_type": "code",
   "execution_count": 2224,
   "id": "3302318f",
   "metadata": {},
   "outputs": [
    {
     "data": {
      "image/png": "[encoded data removed]",
      "text/plain": [
       "<Figure size 360x270 with 12 Axes>"
      ]
     },
     "metadata": {},
     "output_type": "display_data"
    }
   ],
   "source": [
    "samples_from_each_layer = flow.sample_from_each_layer(n)\n",
    "samples_from_each_layer = [samples.detach().numpy() for samples in samples_from_each_layer]\n",
    "\n",
    "indices = np.argsort(\n",
    "    (samples_from_each_layer[0][:,0] - flow.μ[0][0].detach().numpy()) ** 2 + \n",
    "    (samples_from_each_layer[0][:,1] - flow.μ[0][1].detach().numpy()) ** 2\n",
    ")\n",
    "\n",
    "fig = plt.figure(figsize=(5, 5 / 4 * 3), )\n",
    "for i, j in enumerate([0, 1, 5, 10, 15, 20, 25, 30, 35, 40, 45, 50]):\n",
    "    fig.add_subplot(3, 4, i+1)\n",
    "    plt.scatter(samples_from_each_layer[j][:,0][indices], \n",
    "                samples_from_each_layer[j][:,1][indices], \n",
    "                color=rgb_cycle,\n",
    "                s=0.01, alpha=1)\n",
    "    plt.text(-4.5, 3, f\"{j}\", size=13)\n",
    "    plt.xlim(-6, 6)\n",
    "    plt.ylim(-6, 6)\n",
    "    plt.xticks([])\n",
    "    plt.yticks([])\n",
    "fig.subplots_adjust(wspace=0, hspace=0)\n",
    "\n",
    "plt.savefig(\"U4_each_layer.png\", dpi=300)"
   ]
  },
  {
   "cell_type": "markdown",
   "id": "d28558a3",
   "metadata": {},
   "source": [
    "# TODOs\n",
    "\n",
    "- change mu0 and sigma0 to mu and sigma (done)\n",
    "- write documentation for batch_sample_from_sylvester_flow\n",
    "- move small insights into a blog or something"
   ]
  },
  {
   "cell_type": "code",
   "execution_count": null,
   "id": "78575f19",
   "metadata": {},
   "outputs": [],
   "source": []
  },
  {
   "cell_type": "code",
   "execution_count": null,
   "id": "be5ba4f6",
   "metadata": {},
   "outputs": [],
   "source": []
  },
  {
   "cell_type": "code",
   "execution_count": null,
   "id": "82926a34",
   "metadata": {},
   "outputs": [],
   "source": []
  },
  {
   "cell_type": "code",
   "execution_count": null,
   "id": "2afe1566",
   "metadata": {},
   "outputs": [],
   "source": []
  },
  {
   "cell_type": "code",
   "execution_count": null,
   "id": "d5102c4a",
   "metadata": {},
   "outputs": [],
   "source": []
  },
  {
   "cell_type": "code",
   "execution_count": null,
   "id": "86a9912a",
   "metadata": {},
   "outputs": [],
   "source": []
  }
 ],
 "metadata": {
  "kernelspec": {
   "display_name": "Python 3 (ipykernel)",
   "language": "python",
   "name": "python3"
  },
  "language_info": {
   "codemirror_mode": {
    "name": "ipython",
    "version": 3
   },
   "file_extension": ".py",
   "mimetype": "text/x-python",
   "name": "python",
   "nbconvert_exporter": "python",
   "pygments_lexer": "ipython3",
   "version": "3.8.13"
  },
  "toc": {
   "base_numbering": 1,
   "nav_menu": {},
   "number_sections": false,
   "sideBar": true,
   "skip_h1_title": false,
   "title_cell": "Table of Contents",
   "title_sidebar": "Contents",
   "toc_cell": false,
   "toc_position": {},
   "toc_section_display": true,
   "toc_window_display": true
  }
 },
 "nbformat": 4,
 "nbformat_minor": 5
}
